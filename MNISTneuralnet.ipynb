{
  "nbformat": 4,
  "nbformat_minor": 0,
  "metadata": {
    "colab": {
      "name": "MNISTneuralnet.ipynb",
      "provenance": [],
      "authorship_tag": "ABX9TyMoNCNTAq3f8lh2mAqYkWRn",
      "include_colab_link": true
    },
    "kernelspec": {
      "name": "python3",
      "display_name": "Python 3"
    },
    "language_info": {
      "name": "python"
    }
  },
  "cells": [
    {
      "cell_type": "markdown",
      "metadata": {
        "id": "view-in-github",
        "colab_type": "text"
      },
      "source": [
        "<a href=\"https://colab.research.google.com/github/AritraStark/MNIST_TF/blob/main/MNISTneuralnet.ipynb\" target=\"_parent\"><img src=\"https://colab.research.google.com/assets/colab-badge.svg\" alt=\"Open In Colab\"/></a>"
      ]
    },
    {
      "cell_type": "markdown",
      "source": [
        "**bold text**MNIST classification "
      ],
      "metadata": {
        "id": "fMouYY3HJ_Bi"
      }
    },
    {
      "cell_type": "markdown",
      "source": [
        "Setting up imports"
      ],
      "metadata": {
        "id": "PTQOjxp1KabH"
      }
    },
    {
      "cell_type": "code",
      "source": [
        "import tensorflow\n",
        "import numpy as np\n",
        "from tensorflow import keras\n",
        "from tensorflow.keras import layers\n",
        "from tensorflow.keras.callbacks import EarlyStopping\n",
        "\n",
        "tensorflow.__version__"
      ],
      "metadata": {
        "colab": {
          "base_uri": "https://localhost:8080/",
          "height": 35
        },
        "id": "OYY4b5LlKd1s",
        "outputId": "eee15b7c-119a-46cd-94f1-6336b209fb81"
      },
      "execution_count": 65,
      "outputs": [
        {
          "output_type": "execute_result",
          "data": {
            "application/vnd.google.colaboratory.intrinsic+json": {
              "type": "string"
            },
            "text/plain": [
              "'2.7.0'"
            ]
          },
          "metadata": {},
          "execution_count": 65
        }
      ]
    },
    {
      "cell_type": "markdown",
      "source": [
        "Initializing dataset and variables"
      ],
      "metadata": {
        "id": "evB7glUFLVDU"
      }
    },
    {
      "cell_type": "code",
      "source": [
        "mnist = keras.datasets.mnist\n",
        "\n",
        "(X_train, y_train), (X_valid, y_valid) = mnist.load_data()\n",
        "X_train = keras.utils.normalize(X_train, axis = 1)\n",
        "X_valid = keras.utils.normalize(X_valid, axis = 1)\n",
        "\n",
        "early_stopping = EarlyStopping(\n",
        "    min_delta=0.001, \n",
        "    patience=20,\n",
        "    restore_best_weights=True,\n",
        ")"
      ],
      "metadata": {
        "id": "Igk1WhnhLagW"
      },
      "execution_count": 66,
      "outputs": []
    },
    {
      "cell_type": "markdown",
      "source": [
        "Check the input picture data with matplotlib"
      ],
      "metadata": {
        "id": "7okdNsMgYlcU"
      }
    },
    {
      "cell_type": "code",
      "source": [
        "import matplotlib.pyplot as plt\n",
        "\n",
        "plt.imshow(X_train[0])\n",
        "plt.show()"
      ],
      "metadata": {
        "colab": {
          "base_uri": "https://localhost:8080/",
          "height": 265
        },
        "id": "88bv3QQ6YrL_",
        "outputId": "4da45b16-6b37-4c71-87e9-fa799cb66328"
      },
      "execution_count": 67,
      "outputs": [
        {
          "output_type": "display_data",
          "data": {
            "image/png": "[encoded data removed]",
            "text/plain": [
              "<Figure size 432x288 with 1 Axes>"
            ]
          },
          "metadata": {
            "needs_background": "light"
          }
        }
      ]
    },
    {
      "cell_type": "markdown",
      "source": [
        "Define and compile the neural net with loss functions and optimizers"
      ],
      "metadata": {
        "id": "2XzGUY8uMFId"
      }
    },
    {
      "cell_type": "code",
      "source": [
        "my_model = keras.Sequential([\n",
        "                             layers.Flatten(),\n",
        "                             layers.Dense(units = 128, activation = 'relu'),\n",
        "                             layers.Dense(units = 128, activation = 'relu'),\n",
        "                             layers.Dense(units = 10, activation = 'softmax')\n",
        "\n",
        "])\n",
        "\n",
        "my_model.compile(\n",
        "    optimizer='adam',\n",
        "    loss = 'sparse_categorical_crossentropy',\n",
        "    metrics =['accuracy']\n",
        ")"
      ],
      "metadata": {
        "id": "MUiQ0X_HMInI"
      },
      "execution_count": 57,
      "outputs": []
    },
    {
      "cell_type": "markdown",
      "source": [
        "Fitting the model and training it with training data"
      ],
      "metadata": {
        "id": "gMCvdfKxN908"
      }
    },
    {
      "cell_type": "code",
      "source": [
        "my_model.fit( \n",
        "    X_train, y_train,\n",
        "    validation_data=(X_valid, y_valid),\n",
        "    epochs=5\n",
        "    )"
      ],
      "metadata": {
        "colab": {
          "base_uri": "https://localhost:8080/"
        },
        "id": "P31wZgZuODDa",
        "outputId": "d17c95c4-f586-42e5-e98c-dd7b17872d50"
      },
      "execution_count": 70,
      "outputs": [
        {
          "output_type": "stream",
          "name": "stdout",
          "text": [
            "Epoch 1/5\n",
            "1875/1875 [==============================] - 5s 3ms/step - loss: 0.0114 - accuracy: 0.9962 - val_loss: 0.1029 - val_accuracy: 0.9783\n",
            "Epoch 2/5\n",
            "1875/1875 [==============================] - 6s 3ms/step - loss: 0.0098 - accuracy: 0.9968 - val_loss: 0.1503 - val_accuracy: 0.9694\n",
            "Epoch 3/5\n",
            "1875/1875 [==============================] - 5s 3ms/step - loss: 0.0076 - accuracy: 0.9973 - val_loss: 0.1405 - val_accuracy: 0.9744\n",
            "Epoch 4/5\n",
            "1875/1875 [==============================] - 6s 3ms/step - loss: 0.0127 - accuracy: 0.9959 - val_loss: 0.1278 - val_accuracy: 0.9753\n",
            "Epoch 5/5\n",
            "1875/1875 [==============================] - 5s 3ms/step - loss: 0.0079 - accuracy: 0.9972 - val_loss: 0.1174 - val_accuracy: 0.9769\n"
          ]
        },
        {
          "output_type": "execute_result",
          "data": {
            "text/plain": [
              "<keras.callbacks.History at 0x7fb4e2457cd0>"
            ]
          },
          "metadata": {},
          "execution_count": 70
        }
      ]
    },
    {
      "cell_type": "markdown",
      "source": [
        "As we can see here that the accuracy is 99% , validation loss is around 10% and validation accuracy is around 97%. So the model works quite good for predicting the images to numbers. "
      ],
      "metadata": {
        "id": "_74Fl_4iZHSi"
      }
    },
    {
      "cell_type": "markdown",
      "source": [
        "In order to visualize the predictions"
      ],
      "metadata": {
        "id": "veMaqjnuZxhU"
      }
    },
    {
      "cell_type": "code",
      "source": [
        "prediction = my_model.predict(X_valid)\n",
        "print(prediction)"
      ],
      "metadata": {
        "colab": {
          "base_uri": "https://localhost:8080/"
        },
        "id": "9cXVljDgZ0fN",
        "outputId": "73039b60-dba8-480b-cb52-d95ff3050680"
      },
      "execution_count": 68,
      "outputs": [
        {
          "output_type": "stream",
          "name": "stdout",
          "text": [
            "[[2.3523329e-15 6.7395221e-12 3.6505347e-12 ... 9.9999607e-01\n",
            "  3.5176942e-13 5.8704336e-10]\n",
            " [6.4777839e-21 4.6818785e-11 1.0000000e+00 ... 2.5505954e-19\n",
            "  1.1679538e-17 2.6174216e-28]\n",
            " [6.3246410e-16 9.9999809e-01 1.5531572e-07 ... 3.4978530e-08\n",
            "  1.8199499e-06 4.8376225e-12]\n",
            " ...\n",
            " [9.8490485e-18 7.6491824e-16 7.9074149e-18 ... 4.1849305e-11\n",
            "  2.9180175e-10 2.8997222e-08]\n",
            " [3.2687827e-15 1.4729329e-17 1.6887186e-18 ... 3.2419455e-16\n",
            "  3.8941796e-09 2.1011291e-20]\n",
            " [1.0447025e-14 4.2386321e-15 5.1153384e-16 ... 9.1028971e-20\n",
            "  1.8628302e-15 9.3579300e-17]]\n",
            "7\n"
          ]
        }
      ]
    },
    {
      "cell_type": "markdown",
      "source": [
        "This prediction output is the raw matrix data which needs to be processed as shown below."
      ],
      "metadata": {
        "id": "IlOwwMG5abeZ"
      }
    },
    {
      "cell_type": "code",
      "source": [
        "print(np.argmax(prediction[0]))\n",
        "\n",
        "plt.imshow(X_valid[0])\n",
        "plt.show()"
      ],
      "metadata": {
        "colab": {
          "base_uri": "https://localhost:8080/",
          "height": 282
        },
        "id": "1xTnSE9lapRW",
        "outputId": "4674c49c-9285-466c-817b-2a747b517086"
      },
      "execution_count": 71,
      "outputs": [
        {
          "output_type": "stream",
          "name": "stdout",
          "text": [
            "7\n"
          ]
        },
        {
          "output_type": "display_data",
          "data": {
            "image/png": "[encoded data removed]",
            "text/plain": [
              "<Figure size 432x288 with 1 Axes>"
            ]
          },
          "metadata": {
            "needs_background": "light"
          }
        }
      ]
    },
    {
      "cell_type": "markdown",
      "source": [
        "As we can see that the image has been correctly identified as a digit, hence our model is accurate."
      ],
      "metadata": {
        "id": "33-Bis5ZbC0J"
      }
    }
  ]
}